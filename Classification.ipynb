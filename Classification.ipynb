{
  "nbformat": 4,
  "nbformat_minor": 0,
  "metadata": {
    "colab": {
      "name": "Classification.ipynb",
      "version": "0.3.2",
      "provenance": [],
      "include_colab_link": true
    },
    "kernelspec": {
      "name": "python3",
      "display_name": "Python 3"
    }
  },
  "cells": [
    {
      "cell_type": "markdown",
      "metadata": {
        "id": "view-in-github",
        "colab_type": "text"
      },
      "source": [
        "<a href=\"https://colab.research.google.com/github/nidhin-koshy/Notebooks/blob/master/Classification.ipynb\" target=\"_parent\"><img src=\"https://colab.research.google.com/assets/colab-badge.svg\" alt=\"Open In Colab\"/></a>"
      ]
    },
    {
      "cell_type": "markdown",
      "metadata": {
        "id": "Ea3hLxM4OaEy",
        "colab_type": "text"
      },
      "source": [
        "#Classification\n",
        "\n",
        "The obective in a classification task is to assign class labels to input samples. Prior to the classification task, we train the classifier using training samples, where input samples and it's corresponding labels are provided. \n",
        "\n",
        "##System Model\n",
        "\n",
        " Let $(x_i,y_i)$ denote  the $i$th (training sample, class label) pair where $x_i $ denotes the training sample and $y_i$ denotes the class label. $x_i$ can be a feature vector and $y_i$ can take one among the finite class labels.\n",
        " \n",
        " ### Binary Classification\n",
        " When $y_i$ takes only two values, we denote the classification task as binary classification.\n",
        " \n",
        " \n",
        "\n"
      ]
    },
    {
      "cell_type": "code",
      "metadata": {
        "id": "3s_erY6lQ1ap",
        "colab_type": "code",
        "colab": {}
      },
      "source": [
        "import numpy as np\n",
        "import math\n",
        "import matplotlib.pyplot as plt\n",
        "import sklearn\n",
        "from mpl_toolkits.mplot3d import Axes3D\n",
        "\n",
        "\n",
        "\n",
        "\n"
      ],
      "execution_count": 0,
      "outputs": []
    },
    {
      "cell_type": "code",
      "metadata": {
        "id": "-xkEvgrbOVvd",
        "colab_type": "code",
        "colab": {
          "base_uri": "https://localhost:8080/",
          "height": 295
        },
        "outputId": "7b65be91-106c-4c08-9ea9-e15d1f89f805"
      },
      "source": [
        "num_x1_samples = 100\n",
        "num_x2_samples = 100\n",
        "\n",
        "mu_1 = np.array([[4,-4]]).T\n",
        "mu_2 = np.array([[1,-1]]).T\n",
        "\n",
        "x1 = np.random.randn(num_x1_samples,2) + mu_1.T\n",
        "y1 = np.ones((num_x1_samples,1))\n",
        "\n",
        "x2 = np.random.randn(num_x2_samples,2) + mu_2.T\n",
        "y2 = np.zeros((num_x2_samples,1))\n",
        "\n",
        "x_train = np.concatenate((x1,x2),axis=0)\n",
        "x_train = np.concatenate((x_train,np.ones((x_train[:,0].size,1))),axis=1)\n",
        "y_train = np.concatenate((y1,y2),axis=0)\n",
        "\n",
        "plt.plot(x1[:,0],x1[:,1],'.b')\n",
        "plt.plot(x2[:,0],x2[:,1],'.r')\n",
        "plt.grid()\n",
        "plt.title(\"Training samples.\")\n",
        "plt.xlabel(\"x[0]\")\n",
        "plt.ylabel(\"x[1]\")\n",
        "plt.show()\n"
      ],
      "execution_count": 31,
      "outputs": [
        {
          "output_type": "display_data",
          "data": {
            "image/png": "[encoded data removed]",
            "text/plain": [
              "<Figure size 432x288 with 1 Axes>"
            ]
          },
          "metadata": {
            "tags": []
          }
        }
      ]
    },
    {
      "cell_type": "markdown",
      "metadata": {
        "id": "D9m-xJED_gWF",
        "colab_type": "text"
      },
      "source": [
        "### Linear Classifiers\n",
        " \n",
        " Classifiers of the form \n",
        " \n",
        " $$\\hat{y} = \\begin{cases} 1 & \\text{if } \\quad h(w,x) > 0 \\\\ 0 & \\text{otherwise} \\end{cases} ,$$ where $h(w,x) = w^Tx + b$ is an affine function of the input sample $x$.\n",
        " \n",
        " ### Logistic Regression\n",
        " \n",
        " Logistic regression is a linear classifier. Logistic regression can be viewed as a maximum likelihood estimator under specific assumptions. \n",
        "\n",
        "Given the parameters of the logistic function $w$, let the likelihood of the class label $Y$ given the input variable $X = x$ be modelled as the logistic function\n",
        "$$P(Y = 1 | X = x) = \\frac{1}{1+e^{-w^Tx}}.$$\n",
        "\n",
        "Then, given the parameters of the logistic function $w$, the likelihood for a given training sample can be written as\n",
        "$$P(Y=y_i | X=x_i) =  \\left(\\frac{1}{1+e^{-w^Tx_i}}\\right)^{y_i} \\left(\\frac{e^{-w^Tx_i}}{1+e^{-w^Tx_i}}\\right)^{1-y_i}.$$\n",
        "\n",
        "The log-likelihood of the entire training samples can then be written as\n",
        "\n",
        " \\begin{align} \\nonumber L(w) &= \\sum_{i=1}^n y_i \\log \\left(\\frac{1}{1+e^{-w^Tx_i}}\\right) + (1-y_i) \\log \\left(\\frac{e^{-w^Tx_i}}{1+e^{-w^Tx_i}}\\right)\\\\\n",
        "& = \\sum_{i=1}^n y_i w^Tx_i+\\log \\left(\\frac{1}{1+e^{w^Tx_i}}\\right).\n",
        "\\end{align}\n",
        "\n",
        "The obective of the training in logistic regression is to obtain the parameter $w^*$ that maximizes the likelihood, i.e.,\n",
        "\n",
        "$$w^* = \\arg \\max_w L(w).$$\n",
        "\n",
        "There is no closed form expression for the optimum $w^*$. However, given that the objective function is convex in the optimization variable $w$, one can employ convex optimization techniques to obtain $w^*$. Particularly, we can use gradient descent based techniques to find $w^*$. The gradient of the objective function with respect to $w$ can be derived to be\n",
        "\n",
        "\\begin{align}\n",
        "\\nabla_{w}L(w) = \\sum_{i=1}^n y_i x_i -  \\left(\\frac{1}{1+e^{-w^Tx_i}}\\right)x_i.\n",
        "\\end{align}"
      ]
    },
    {
      "cell_type": "code",
      "metadata": {
        "id": "cO8jPS7TT6Yu",
        "colab_type": "code",
        "colab": {
          "base_uri": "https://localhost:8080/",
          "height": 592
        },
        "outputId": "2864a880-363c-452c-a83c-f09a7161b8ed"
      },
      "source": [
        "def get_grad(x,y,w):\n",
        "  wT_x = np.matmul(x,w)\n",
        "  temp = 1/(1+np.exp(-wT_x))\n",
        "  grad = np.matmul(x.T,y)-np.matmul(x.T,temp)\n",
        "  \n",
        "  grad = grad/(y.size)\n",
        "  return grad\n",
        "\n",
        "\n",
        "num_iter = 1000\n",
        "w = np.random.randn(x_train[0,:].size,1)\n",
        "w_evol = w\n",
        "mu= 0.1\n",
        "for iter_count in range(num_iter):\n",
        "    grad = get_grad(x_train,y_train,w)\n",
        "    w = w+mu*grad\n",
        "    w_evol = np.concatenate((w_evol,w),axis=1)\n",
        "    \n",
        "print(\"Converged w* = \", w.T)\n",
        "x1_plot = 10*np.random.rand(1000,1)-5\n",
        "x2_plot = -(x1_plot*w[0,0]+w[2,0])/w[1,0]\n",
        "\n",
        "plt.figure()\n",
        "plt.plot(w_evol[0,:],w_evol[1,:],'.g')\n",
        "plt.plot(w_evol[0,-1:],w_evol[1,-1:],'.r')\n",
        "plt.title(\"Evolution of logistic parameter \" r\"$w$\")\n",
        "plt.xlabel(\"w[0]\")\n",
        "plt.ylabel(\"w[1]\")\n",
        "plt.grid()\n",
        "plt.show()\n",
        "\n",
        "plt.figure()\n",
        "plt.plot(x1[:,0],x1[:,1],'.b')\n",
        "plt.plot(x2[:,0],x2[:,1],'.r')\n",
        "plt.plot(x1_plot,x2_plot,'.g')\n",
        "plt.title(\"Logistic Regression Boundary\")\n",
        "plt.xlabel(\"x[0]\")\n",
        "plt.ylabel(\"x[1]\")\n",
        "plt.grid()\n",
        "plt.show()"
      ],
      "execution_count": 32,
      "outputs": [
        {
          "output_type": "stream",
          "text": [
            "Converged w* =  [[ 1.19952326 -1.15011687 -5.24453739]]\n"
          ],
          "name": "stdout"
        },
        {
          "output_type": "display_data",
          "data": {
            "image/png": "[encoded data removed]",
            "text/plain": [
              "<Figure size 432x288 with 1 Axes>"
            ]
          },
          "metadata": {
            "tags": []
          }
        },
        {
          "output_type": "display_data",
          "data": {
            "image/png": "[encoded data removed]",
            "text/plain": [
              "<Figure size 432x288 with 1 Axes>"
            ]
          },
          "metadata": {
            "tags": []
          }
        }
      ]
    },
    {
      "cell_type": "code",
      "metadata": {
        "id": "R8QLr8Uhj_BR",
        "colab_type": "code",
        "colab": {
          "base_uri": "https://localhost:8080/",
          "height": 366
        },
        "outputId": "cba3fe9f-11c3-43b5-bdbb-691d1f7641c3"
      },
      "source": [
        "#Logistic Regression using sklearn in-built implementation\n",
        "from sklearn.linear_model import LogisticRegression\n",
        "log_reg = LogisticRegression()\n",
        "log_reg.fit(x_train[:,0:2],y_train[:,0]) #y_train[:,0] used only because fit() expects the labels to be a 1d array and not a column vector.\n",
        "w_sklearn = np.array([np.append(log_reg.coef_,log_reg.intercept_)])\n",
        "\n",
        "print(\"Logistic Regression parameters from sklearn = \", w_sklearn)\n",
        "\n",
        "\n",
        "#x1_plot = 10*np.random.rand(1000,1)-5\n",
        "x2_plot = -(x1_plot*w_sklearn.T[0,0]+w_sklearn.T[2,0])/w_sklearn.T[1,0]\n",
        "\n",
        "plt.figure()\n",
        "plt.plot(x1[:,0],x1[:,1],'.b')\n",
        "plt.plot(x2[:,0],x2[:,1],'.r')\n",
        "plt.plot(x1_plot,x2_plot,'.g')\n",
        "plt.title(\"sklearn Logistic Regression Boundary\")\n",
        "plt.xlabel(\"x[0]\")\n",
        "plt.ylabel(\"x[1]\")\n",
        "plt.grid()\n",
        "plt.show()"
      ],
      "execution_count": 33,
      "outputs": [
        {
          "output_type": "stream",
          "text": [
            "Logistic Regression parameters from sklearn =  [[ 1.09639361 -1.04953547 -4.74493712]]\n"
          ],
          "name": "stdout"
        },
        {
          "output_type": "stream",
          "text": [
            "/usr/local/lib/python3.6/dist-packages/sklearn/linear_model/logistic.py:432: FutureWarning: Default solver will be changed to 'lbfgs' in 0.22. Specify a solver to silence this warning.\n",
            "  FutureWarning)\n"
          ],
          "name": "stderr"
        },
        {
          "output_type": "display_data",
          "data": {
            "image/png": "[encoded data removed]",
            "text/plain": [
              "<Figure size 432x288 with 1 Axes>"
            ]
          },
          "metadata": {
            "tags": []
          }
        }
      ]
    },
    {
      "cell_type": "markdown",
      "metadata": {
        "id": "AusFMA2vQyx_",
        "colab_type": "text"
      },
      "source": [
        "### Perceptron\n",
        "\n",
        "Perceptron is a simple linear classifier based on a very simple neural network model. Perceptron classifier can be modelled as\n",
        "\\begin{align}\n",
        "\\nonumber y &= sign(w^Tx)\\\\\n",
        "\\nonumber & = sign\\left(\\sum_{k=1}^K w_kx_k\\right),\n",
        "\\end{align}\n",
        "where $sign(x) = 1$ if $x >0$ and $sign(x) = -1$ if $x \\le 0$.\n",
        "\n",
        "#### Training a perceptron\n",
        "Perceptron training is done on a sample by sample basis. Whenever the current model encounters an error, the perceptron weights are updated. The weight updation rule in perceptron training for training sample $(x_i,y_i)$ is given by\n",
        "\n",
        "\\begin{align}\n",
        "\\nonumber w = w + \\nabla_w,\n",
        "\\end{align}\n",
        "where \n",
        "\n",
        "\\begin{align}\n",
        "\\nabla_w = \\begin{cases} &2 \\eta y_i x_i & \\text{if }  {y_i \\ne sign(w^Tx_i)} \\\\ \n",
        "& 0 & \\text{otherwise}\n",
        "\\end{cases},\n",
        "\\end{align}\n",
        "where $\\eta$ is the learning rate. "
      ]
    },
    {
      "cell_type": "code",
      "metadata": {
        "id": "iYmmP3YDVnbe",
        "colab_type": "code",
        "colab": {
          "base_uri": "https://localhost:8080/",
          "height": 593
        },
        "outputId": "90479921-bcc1-49e6-f09a-1d756322b5e2"
      },
      "source": [
        "#Perceptron training\n",
        "#Shuffle training samples. In the logistic regression example, the samples where not randomized\n",
        "perm = np.random.permutation(y_train.size)\n",
        "\n",
        "x_train_1 = x_train[perm,:]\n",
        "y_train_1 = y_train[perm,:]\n",
        "y_train_1 = 2*y_train_1-1 # relabel zeros by -1\n",
        "\n",
        "\n",
        "w_perc = np.random.randn(x_train[0,:].size,1)\n",
        "w_perc_evol = w_perc\n",
        "eta = 0.01\n",
        "\n",
        "num_outer_loop = 10\n",
        "for count_outer_loop in range(num_outer_loop):\n",
        "  for count_inner in range(y_train.size):\n",
        "    if (y_train_1[count_inner,0]*np.matmul(x_train_1[count_inner,:],w_perc)) < 0:\n",
        "      w_perc = w_perc + (2*eta*y_train_1[count_inner,0])*x_train_1[count_inner:count_inner+1,:].T\n",
        "      w_perc_evol = np.concatenate((w_perc_evol,w_perc),axis=1)\n",
        "      \n",
        "print(\"Perceptron weights = \", w_perc.T)\n",
        "\n",
        "x2_plot = -(x1_plot*w_perc[0,0]+w_perc[2,0])/w_perc[1,0]\n",
        "plt.figure()\n",
        "plt.plot(w_perc_evol[0,:],w_perc_evol[1,:],'.g')\n",
        "plt.plot(w_perc_evol[0,-1:],w_perc_evol[1,-1:],'.r')\n",
        "plt.title(\"Evolution of perceptron weights \" r\"$w\\_perc$\")\n",
        "plt.xlabel(\"w_perc[0]\")\n",
        "plt.ylabel(\"w_perc[1]\")\n",
        "plt.grid()\n",
        "plt.show()\n",
        "\n",
        "plt.figure()\n",
        "plt.plot(x1[:,0],x1[:,1],'.b')\n",
        "plt.plot(x2[:,0],x2[:,1],'.r')\n",
        "plt.plot(x1_plot,x2_plot,'.g')\n",
        "plt.title(\"Perceptron Boundary\")\n",
        "plt.xlabel(\"x[0]\")\n",
        "plt.ylabel(\"x[1]\")\n",
        "plt.grid()\n",
        "plt.show()\n",
        "\n",
        "    \n",
        "    "
      ],
      "execution_count": 34,
      "outputs": [
        {
          "output_type": "stream",
          "text": [
            "Perceptron weights =  [[ 0.21201418 -0.20060269 -0.88540985]]\n"
          ],
          "name": "stdout"
        },
        {
          "output_type": "display_data",
          "data": {
            "image/png": "[encoded data removed]",
            "text/plain": [
              "<Figure size 432x288 with 1 Axes>"
            ]
          },
          "metadata": {
            "tags": []
          }
        },
        {
          "output_type": "display_data",
          "data": {
            "image/png": "[encoded data removed]",
            "text/plain": [
              "<Figure size 432x288 with 1 Axes>"
            ]
          },
          "metadata": {
            "tags": []
          }
        }
      ]
    },
    {
      "cell_type": "markdown",
      "metadata": {
        "id": "XNw6FyTy-cNc",
        "colab_type": "text"
      },
      "source": [
        "## Exercises\n",
        "* Create a function that computes the accuracy of a linear classifier."
      ]
    },
    {
      "cell_type": "markdown",
      "metadata": {
        "id": "ctATmSl2yHd0",
        "colab_type": "text"
      },
      "source": [
        "# Classification using public datasets\n",
        "\n",
        "* We will try to do a classification task on a publically available dataset.\n",
        "* First we will use the Indian Liver Disease Dataset avaialble at https://archive.ics.uci.edu/ml/datasets/ILPD+%28Indian+Liver+Patient+Dataset%29"
      ]
    },
    {
      "cell_type": "code",
      "metadata": {
        "id": "Iu0Ft0U_I3R4",
        "colab_type": "code",
        "colab": {
          "base_uri": "https://localhost:8080/",
          "height": 323
        },
        "outputId": "27e1f149-7d72-48a4-c77a-006f2112a301"
      },
      "source": [
        "# download dataset from source\n",
        "!rm -rf Indian* # Remove earlier copies of the dataset if any\n",
        "!wget 'https://archive.ics.uci.edu/ml/machine-learning-databases/00225/Indian%20Liver%20Patient%20Dataset%20(ILPD).csv'\n",
        "!ls -l"
      ],
      "execution_count": 35,
      "outputs": [
        {
          "output_type": "stream",
          "text": [
            "--2019-06-27 08:37:45--  https://archive.ics.uci.edu/ml/machine-learning-databases/00225/Indian%20Liver%20Patient%20Dataset%20(ILPD).csv\n",
            "Resolving archive.ics.uci.edu (archive.ics.uci.edu)... 128.195.10.252\n",
            "Connecting to archive.ics.uci.edu (archive.ics.uci.edu)|128.195.10.252|:443... connected.\n",
            "HTTP request sent, awaiting response... 200 OK\n",
            "Length: 23755 (23K) [application/x-httpd-php]\n",
            "Saving to: ‘Indian Liver Patient Dataset (ILPD).csv’\n",
            "\n",
            "\r          Indian Li   0%[                    ]       0  --.-KB/s               \rIndian Liver Patien 100%[===================>]  23.20K  --.-KB/s    in 0.03s   \n",
            "\n",
            "2019-06-27 08:37:45 (773 KB/s) - ‘Indian Liver Patient Dataset (ILPD).csv’ saved [23755/23755]\n",
            "\n",
            "total 144\n",
            "-rw-r--r-- 1 root root 44267 Jun 27 08:36  chronic_kidney_disease.arff\n",
            "-rw-r--r-- 1 root root 47276 Jun 27 08:36  chronic_kidney_disease_full.arff\n",
            "-rw-r--r-- 1 root root  2924 Jul  4  2015  chronic_kidney_disease.info.txt\n",
            "-rw-r--r-- 1 root root 19260 Jul  4  2015  Chronic_Kidney_Disease.rar\n",
            "-rw-r--r-- 1 root root 23755 May 21  2012 'Indian Liver Patient Dataset (ILPD).csv'\n",
            "drwxr-xr-x 1 root root  4096 Jun 18 16:14  sample_data\n"
          ],
          "name": "stdout"
        }
      ]
    },
    {
      "cell_type": "code",
      "metadata": {
        "id": "2SyjSuYo7S-n",
        "colab_type": "code",
        "colab": {}
      },
      "source": [
        "import numpy as np\n",
        "import pandas as pd\n",
        "from scipy.io import arff\n",
        "\n"
      ],
      "execution_count": 0,
      "outputs": []
    },
    {
      "cell_type": "code",
      "metadata": {
        "id": "EcUzngNRJVRd",
        "colab_type": "code",
        "colab": {
          "base_uri": "https://localhost:8080/",
          "height": 306
        },
        "outputId": "4ff53c36-4299-435e-b29d-e4c946ba5788"
      },
      "source": [
        "df_LD = pd.read_csv('Indian Liver Patient Dataset (ILPD).csv',header=None) #load data as a pandas dataframe\n",
        "df_LD.columns= ['Age', 'Gender', 'TB', 'DB', 'Alkphos', 'SGPT', 'SGOT','TP','ALB','A/G','LD'] #if columns are not spcified in the source file, assign column names\n",
        "print(df_LD.head()) # display first 5 records\n",
        "print(df_LD.describe()) # display a summary of the dataset\n",
        "\n"
      ],
      "execution_count": 37,
      "outputs": [
        {
          "output_type": "stream",
          "text": [
            "   Age  Gender    TB   DB  Alkphos  SGPT  SGOT   TP  ALB   A/G  LD\n",
            "0   65  Female   0.7  0.1      187    16    18  6.8  3.3  0.90   1\n",
            "1   62    Male  10.9  5.5      699    64   100  7.5  3.2  0.74   1\n",
            "2   62    Male   7.3  4.1      490    60    68  7.0  3.3  0.89   1\n",
            "3   58    Male   1.0  0.4      182    14    20  6.8  3.4  1.00   1\n",
            "4   72    Male   3.9  2.0      195    27    59  7.3  2.4  0.40   1\n",
            "              Age          TB          DB  ...         ALB         A/G          LD\n",
            "count  583.000000  583.000000  583.000000  ...  583.000000  579.000000  583.000000\n",
            "mean    44.746141    3.298799    1.486106  ...    3.141852    0.947064    1.286449\n",
            "std     16.189833    6.209522    2.808498  ...    0.795519    0.319592    0.452490\n",
            "min      4.000000    0.400000    0.100000  ...    0.900000    0.300000    1.000000\n",
            "25%     33.000000    0.800000    0.200000  ...    2.600000    0.700000    1.000000\n",
            "50%     45.000000    1.000000    0.300000  ...    3.100000    0.930000    1.000000\n",
            "75%     58.000000    2.600000    1.300000  ...    3.800000    1.100000    2.000000\n",
            "max     90.000000   75.000000   19.700000  ...    5.500000    2.800000    2.000000\n",
            "\n",
            "[8 rows x 10 columns]\n"
          ],
          "name": "stdout"
        }
      ]
    },
    {
      "cell_type": "code",
      "metadata": {
        "id": "91Q2fKzckfJR",
        "colab_type": "code",
        "colab": {
          "base_uri": "https://localhost:8080/",
          "height": 578
        },
        "outputId": "d6178e74-75dd-4917-ba30-a5b587708f2e"
      },
      "source": [
        "df_LD=df_LD[['Age', 'TB', 'DB', 'Alkphos', 'SGPT', 'SGOT','TP','ALB','A/G','LD']] # remove the gender columns for the timebeing\n",
        "\n",
        "print(df_LD.mean()) # display the mean across different columns\n",
        "print(df_LD.isna().any()) # display if any column have nan values\n",
        "\n",
        "df_LD = df_LD.fillna(df_LD.mean()) # replace nan with mean values. One could replace it with 0, mean or any other value. One could even remove records have missing values\n",
        "print(df_LD.isna().any()) # display if any column have nan values\n",
        "\n",
        "df_LD = df_LD.apply(pd.to_numeric,errors='coerce') #convert all entries to numeric values\n",
        "\n"
      ],
      "execution_count": 38,
      "outputs": [
        {
          "output_type": "stream",
          "text": [
            "Age         44.746141\n",
            "TB           3.298799\n",
            "DB           1.486106\n",
            "Alkphos    290.576329\n",
            "SGPT        80.713551\n",
            "SGOT       109.910806\n",
            "TP           6.483190\n",
            "ALB          3.141852\n",
            "A/G          0.947064\n",
            "LD           1.286449\n",
            "dtype: float64\n",
            "Age        False\n",
            "TB         False\n",
            "DB         False\n",
            "Alkphos    False\n",
            "SGPT       False\n",
            "SGOT       False\n",
            "TP         False\n",
            "ALB        False\n",
            "A/G         True\n",
            "LD         False\n",
            "dtype: bool\n",
            "Age        False\n",
            "TB         False\n",
            "DB         False\n",
            "Alkphos    False\n",
            "SGPT       False\n",
            "SGOT       False\n",
            "TP         False\n",
            "ALB        False\n",
            "A/G        False\n",
            "LD         False\n",
            "dtype: bool\n"
          ],
          "name": "stdout"
        }
      ]
    },
    {
      "cell_type": "code",
      "metadata": {
        "id": "Cnw3xcg_1Rxj",
        "colab_type": "code",
        "colab": {
          "base_uri": "https://localhost:8080/",
          "height": 122
        },
        "outputId": "91a07092-5423-4ff4-d5ee-fe2782aaf5ca"
      },
      "source": [
        "data_array = df_LD.to_numpy() # convert pandas dataframe to a numpy array\n",
        "x_data = data_array[:,[0,2,3,4,5,6,7,8]] #\n",
        "y_data = data_array[:,9]\n",
        "\n",
        "print(np.argwhere(np.isnan(x_data)))\n",
        "print(np.argwhere(np.isnan(y_data)))\n",
        "\n",
        "\n",
        "from sklearn.linear_model import LogisticRegression, Perceptron\n",
        "from sklearn.tree import DecisionTreeClassifier\n",
        "from sklearn.ensemble import RandomForestClassifier\n",
        "from sklearn.model_selection import train_test_split\n",
        "\n",
        "x_train, x_test, y_train, y_test = train_test_split(x_data, y_data, test_size=0.3,random_state=42)\n",
        "\n",
        "classifier = RandomForestClassifier()\n",
        "classifier.fit(x_train,y_train) #y_train[:,0] used only because fit() expects the labels to be a 1d array and not a column vector.\n",
        "#w_sklearn = np.array([np.append(classifier.coef_,classifier.intercept_)])\n",
        "#print(\"Classification coefficients\", w_sklearn)\n",
        "\n",
        "print(\"Classification score = \", classifier.score(x_test,y_test))"
      ],
      "execution_count": 39,
      "outputs": [
        {
          "output_type": "stream",
          "text": [
            "[]\n",
            "[]\n",
            "Classification score =  0.7371428571428571\n"
          ],
          "name": "stdout"
        },
        {
          "output_type": "stream",
          "text": [
            "/usr/local/lib/python3.6/dist-packages/sklearn/ensemble/forest.py:245: FutureWarning: The default value of n_estimators will change from 10 in version 0.20 to 100 in 0.22.\n",
            "  \"10 in version 0.20 to 100 in 0.22.\", FutureWarning)\n"
          ],
          "name": "stderr"
        }
      ]
    }
  ]
}