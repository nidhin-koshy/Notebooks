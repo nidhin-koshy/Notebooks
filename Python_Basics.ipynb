{
  "nbformat": 4,
  "nbformat_minor": 0,
  "metadata": {
    "colab": {
      "name": "Python Basics",
      "version": "0.3.2",
      "provenance": [],
      "toc_visible": true,
      "include_colab_link": true
    },
    "kernelspec": {
      "name": "python3",
      "display_name": "Python 3"
    }
  },
  "cells": [
    {
      "cell_type": "markdown",
      "metadata": {
        "id": "view-in-github",
        "colab_type": "text"
      },
      "source": [
        "<a href=\"https://colab.research.google.com/github/nidhin-koshy/Notebooks/blob/master/Python_Basics.ipynb\" target=\"_parent\"><img src=\"https://colab.research.google.com/assets/colab-badge.svg\" alt=\"Open In Colab\"/></a>"
      ]
    },
    {
      "cell_type": "markdown",
      "metadata": {
        "id": "djg3nyBFzA8K",
        "colab_type": "text"
      },
      "source": [
        "# Python Basics\n",
        "\n",
        "In this module we will review some basic operations in python which are essential for getting started with Python.\n",
        "\n",
        "Python is one of the popular platforms for ML and Data Analytics prototyping. \n",
        "\n",
        "## Advantages\n",
        "* Ease of coding - very high level syntax\n",
        "* Numerical libraries for mathematical computations - [SciPy](https://www.scipy.org/), [NumPy](http://www.numpy.org/),\n",
        "* Extensive ML libraries - [Scikit Learn](https://scikit-learn.org/stable/), [Tensorflow](https://www.tensorflow.org/), [PyTorch](https://pytorch.org/)"
      ]
    },
    {
      "cell_type": "markdown",
      "metadata": {
        "id": "y3N2IgR_x5Dx",
        "colab_type": "text"
      },
      "source": [
        "## Basic math operations"
      ]
    },
    {
      "cell_type": "code",
      "metadata": {
        "id": "CG_fH_R9y8Rd",
        "colab_type": "code",
        "outputId": "11bba57d-1648-4c14-c4eb-b6c6f8e2495b",
        "colab": {
          "base_uri": "https://localhost:8080/",
          "height": 71
        }
      },
      "source": [
        "# Basic Math Operations\n",
        "var1 = 4\n",
        "var2 = 3\n",
        "var_add = var1 + var2\n",
        "var_mult = var1 * var2\n",
        "var_div = var1/var2\n",
        "var_floor = var1//var2\n",
        "var_exp = var1**var2\n",
        "\n",
        "print(\"var1 = \", var1, \"var2 = \", var2,\"var_add = \", var_add,\"var_mult = \", var_mult,\"var_div = \", var_div, \"var_floor = \", var_floor,'var_exp = ',var_exp)\n",
        "print(\"type(var1) = \", type(var1), \"type(var2) = \", type(var2),\"type(var_div) = \", type(var_div),\"type(var_floor) = \", type(var_floor), \"type(var_exp) = \", type(var_exp))"
      ],
      "execution_count": 0,
      "outputs": [
        {
          "output_type": "stream",
          "text": [
            "var1 =  4 var2 =  3 var_add =  7 var_mult =  12 var_div =  1.3333333333333333 var_floor =  1 var_exp =  64\n",
            "type(var1) =  <class 'int'> type(var2) =  <class 'int'> type(var_div) =  <class 'float'> type(var_floor) =  <class 'int'> type(var_exp) =  <class 'int'>\n"
          ],
          "name": "stdout"
        }
      ]
    },
    {
      "cell_type": "markdown",
      "metadata": {
        "id": "iZh79UoJCSEH",
        "colab_type": "text"
      },
      "source": [
        "## Lists, Tuples and Dictionaries\n",
        "\n",
        "Lists, tuples and dictionaries are data types that can be used to represent a collection of data."
      ]
    },
    {
      "cell_type": "markdown",
      "metadata": {
        "id": "KrOTVUg1Vo1h",
        "colab_type": "text"
      },
      "source": [
        "### Lists\n",
        "Lists are similar to numerical arrays, but are more flexible and each element can hold any data type. Further, the contents of a list can be edited. The size of the list can be increased, decreased, and an element in the list can be edited."
      ]
    },
    {
      "cell_type": "code",
      "metadata": {
        "id": "68C_A9mwCW5O",
        "colab_type": "code",
        "colab": {
          "base_uri": "https://localhost:8080/",
          "height": 136
        },
        "outputId": "e7356946-0882-4411-e57a-020ad9dedf5d"
      },
      "source": [
        "#Lists\n",
        "var_list = [1,2,3,4] #list of numericals\n",
        "print(\"var_list = \", var_list)\n",
        "var_list_mixed=[1,'India',[2,3],4.0] #mixed list, with numericals, strings,list\n",
        "print(\"var_list_mixed = \",var_list_mixed)\n",
        "var_list_mixed.append(\"new element\") #add an element to a list\n",
        "print(\"var_list_mixed = \",var_list_mixed)\n",
        "var_list_mixed[0] = \"Zero Index\" #edit an element of the list\n",
        "print(\"var_list_mixed = \",var_list_mixed)\n",
        "var_list_mixed.pop(1) #remove an element in a list. Similar function is del var_list_mixed[2]\n",
        "print(\"var_list_mixed = \",var_list_mixed)\n",
        "#Indexing\n",
        "print(\"First two elements of var_list_mixed = \", var_list_mixed[0:2]) #var[start:stop+1]\n",
        "print(\"Last two elements of var_list_mixed = \", var_list_mixed[-2:]) #var[-start:]"
      ],
      "execution_count": 42,
      "outputs": [
        {
          "output_type": "stream",
          "text": [
            "var_list =  [1, 2, 3, 4]\n",
            "var_list_mixed =  [1, 'India', [2, 3], 4.0]\n",
            "var_list_mixed =  [1, 'India', [2, 3], 4.0, 'new element']\n",
            "var_list_mixed =  ['Zero Index', 'India', [2, 3], 4.0, 'new element']\n",
            "var_list_mixed =  ['Zero Index', [2, 3], 4.0, 'new element']\n",
            "First two elements of var_list_mixed =  ['Zero Index', [2, 3]]\n",
            "Last two elements of var_list_mixed =  [4.0, 'new element']\n"
          ],
          "name": "stdout"
        }
      ]
    },
    {
      "cell_type": "markdown",
      "metadata": {
        "id": "JU3l5ReBgXbK",
        "colab_type": "text"
      },
      "source": [
        "### Exercise\n",
        "* How can we extract data from non-contiguous indexes in a list?"
      ]
    },
    {
      "cell_type": "markdown",
      "metadata": {
        "id": "NMz3yVZQVq3i",
        "colab_type": "text"
      },
      "source": [
        "### Tuples\n",
        "\n",
        " Tuples are simlar to lists, but its elements are not editable."
      ]
    },
    {
      "cell_type": "code",
      "metadata": {
        "id": "tB8AC1t9VxXW",
        "colab_type": "code",
        "colab": {
          "base_uri": "https://localhost:8080/",
          "height": 68
        },
        "outputId": "be489916-05bc-4477-a9ef-92e33229a7d2"
      },
      "source": [
        "# Tuples. Tuples are similar to lists but cannot be edited.\n",
        "var_tuple = (1,2,3,4)\n",
        "print(\"var_tuple = \",var_tuple)\n",
        "var_tuple_mixed=(1,'India',[2,3],4)\n",
        "print(\"var_tuple_mixed = \",var_tuple_mixed)\n",
        "print(\"var_tuple_mixed[1] = \",var_tuple_mixed[1])\n",
        "#var_tuple_mixed[0] = 2 # This will trigger an error message"
      ],
      "execution_count": 51,
      "outputs": [
        {
          "output_type": "stream",
          "text": [
            "var_tuple =  (1, 2, 3, 4)\n",
            "var_tuple_mixed =  (1, 'India', [2, 3], 4)\n",
            "var_tuple_mixed[1] =  India\n"
          ],
          "name": "stdout"
        }
      ]
    },
    {
      "cell_type": "markdown",
      "metadata": {
        "id": "e57Wc7odmHL4",
        "colab_type": "text"
      },
      "source": [
        "### Exercise\n",
        "* Can we edit a list which is an element of an array?"
      ]
    },
    {
      "cell_type": "markdown",
      "metadata": {
        "id": "e8KvoOFnVs8H",
        "colab_type": "text"
      },
      "source": [
        "### Dictionaries\n",
        "Similar to lists and tuples, dictionary is also a collection of elements. Each element of a dictionary consists of a \"key\" and \"value\" pair. The elements of a dictionary are indexed by the \"key\" value. "
      ]
    },
    {
      "cell_type": "code",
      "metadata": {
        "id": "P4SCc1nYVzY4",
        "colab_type": "code",
        "colab": {
          "base_uri": "https://localhost:8080/",
          "height": 102
        },
        "outputId": "1ab0ccb5-2c2c-4d55-c94b-4e02e852b521"
      },
      "source": [
        "#Dictionaries\n",
        "var_dict={\"India\":\"Delhi\",'UK':'London',\"USA\":\"Washington D.C.\"} #Dictionaries are initialized using curly brackets\n",
        "print(\"var_dict = \", var_dict)\n",
        "print(\"var_dict['UK'] = \", var_dict[\"UK\"]) # elements are indexed using key values\n",
        "var_dict[\"new\"] = [1,2,3,4] # add a new element\n",
        "print(\"var_dict = \", var_dict)\n",
        "var_dict['UK'] = \"Manchester\"\n",
        "print(\"var_dict = \", var_dict)\n",
        "del var_dict['UK']\n",
        "print(\"var_dict = \", var_dict)"
      ],
      "execution_count": 66,
      "outputs": [
        {
          "output_type": "stream",
          "text": [
            "var_dict =  {'India': 'Delhi', 'UK': 'London', 'USA': 'Washington D.C.'}\n",
            "var_dict['UK'] =  London\n",
            "var_dict =  {'India': 'Delhi', 'UK': 'London', 'USA': 'Washington D.C.', 'new': [1, 2, 3, 4]}\n",
            "var_dict =  {'India': 'Delhi', 'UK': 'Manchester', 'USA': 'Washington D.C.', 'new': [1, 2, 3, 4]}\n",
            "var_dict =  {'India': 'Delhi', 'USA': 'Washington D.C.', 'new': [1, 2, 3, 4]}\n"
          ],
          "name": "stdout"
        }
      ]
    },
    {
      "cell_type": "markdown",
      "metadata": {
        "id": "5WmcstqynPTd",
        "colab_type": "text"
      },
      "source": [
        "## Assignment in Python\n",
        "\n",
        "Internally in Python, a variable is a pointer to a target, with the target holding the data. Hence, when we assign (=) a value to a variable, the variable's pointer is edited to point to the new target. \n",
        "\n",
        "In the case of numericals and strings, the use of (=) does not have any ambiguties, and the results are as one would expect, as shown in the first set of statements below.\n",
        "\n",
        "However, when using mutable objects like lists or classes, the assignment(=) changes the variable's pointer to point to the same target. And any changes to the target is reflected in all objects pointing to that target.\n",
        "\n",
        "Reference - https://realpython.com/python-variables/"
      ]
    },
    {
      "cell_type": "code",
      "metadata": {
        "id": "Xa6aFhzdnaDj",
        "colab_type": "code",
        "outputId": "5c2ffe16-d2bf-477e-eecc-cfe1c7121abb",
        "colab": {
          "base_uri": "https://localhost:8080/",
          "height": 119
        }
      },
      "source": [
        "#assignment operator gives expected output for numericals and strings\n",
        "a=5\n",
        "b=10\n",
        "c=20\n",
        "print(\"(a,b,c) = \", (a,b,c))\n",
        "a=c\n",
        "b=c\n",
        "c=10\n",
        "print(\"(a,b,c) = \", (a,b,c))\n",
        "print(\"id(a,b,c) = \", (id(a),id(b),id(c))) # id returns the id of the target\n",
        "\n",
        "a=\"India\"\n",
        "b=\"UK\"\n",
        "c=\"US\"\n",
        "print(\"(a,b,c) = \", (a,b,c))\n",
        "a=c\n",
        "b=c\n",
        "c=\"Canada\"\n",
        "print(\"(a,b,c) = \", (a,b,c))\n",
        "print(\"id(a,b,c) = \", (id(a),id(b),id(c))) # id returns the id of the target"
      ],
      "execution_count": 72,
      "outputs": [
        {
          "output_type": "stream",
          "text": [
            "(a,b,c) =  (5, 10, 20)\n",
            "(a,b,c) =  (20, 20, 10)\n",
            "id(a,b,c) =  (10969408, 10969408, 10969088)\n",
            "(a,b,c) =  ('India', 'UK', 'US')\n",
            "(a,b,c) =  ('US', 'US', 'Canada')\n",
            "id(a,b,c) =  (140374787268368, 140374787268368, 140374787264784)\n"
          ],
          "name": "stdout"
        }
      ]
    },
    {
      "cell_type": "code",
      "metadata": {
        "id": "il4tVoUTnTb2",
        "colab_type": "code",
        "outputId": "0bd23ef8-b073-44ad-fbb5-5766e05b124e",
        "colab": {
          "base_uri": "https://localhost:8080/",
          "height": 85
        }
      },
      "source": [
        "# For lists, any change to the target affects all variables pointing to that target\n",
        "a=[5,10]\n",
        "b=[10,20]\n",
        "c=[20,30]\n",
        "print(\"(a,b,c) = \", (a,b,c))\n",
        "print(\"id(a,b,c) = \", (id(a),id(b),id(c))) # id returns the id of the target\n",
        "a=c #use the copy method for lists or use the copy.deepcopy functions\n",
        "b=c\n",
        "c[1]= 1\n",
        "print(\"(a,b,c) = \", (a,b,c))\n",
        "print(\"id(a,b,c) = \", (id(a),id(b),id(c))) # id returns the id of the target"
      ],
      "execution_count": 73,
      "outputs": [
        {
          "output_type": "stream",
          "text": [
            "(a,b,c) =  ([5, 10], [10, 20], [20, 30])\n",
            "id(a,b,c) =  (140374796542152, 140374787384136, 140374787383368)\n",
            "(a,b,c) =  ([20, 1], [20, 1], [20, 1])\n",
            "id(a,b,c) =  (140374787383368, 140374787383368, 140374787383368)\n"
          ],
          "name": "stdout"
        }
      ]
    },
    {
      "cell_type": "markdown",
      "metadata": {
        "id": "hATpigRrH1_1",
        "colab_type": "text"
      },
      "source": [
        "## Logical operators and conditional statements\n",
        "\n",
        "Logical operators in Python are (==, !=, > , <, >=, <=) . Nesting of logical operators is achived using keywords \"and\" and \"or\""
      ]
    },
    {
      "cell_type": "code",
      "metadata": {
        "id": "VgzVo6C2H9pD",
        "colab_type": "code",
        "outputId": "a335330b-d29e-40a5-9aeb-fe8dbc8e6135",
        "colab": {
          "base_uri": "https://localhost:8080/",
          "height": 34
        }
      },
      "source": [
        "a = 1\n",
        "b = 1\n",
        "c = 2\n",
        "if(a>b):  \n",
        "  if a>c:\n",
        "    print(\"Max = \", a) # Note that there is no curly brackets to indicate a code section. Code section is indicated using indentation.\n",
        "  else:\n",
        "    print(\"Max = \", c)\n",
        "elif (c<b):\n",
        "  print(\"Max = \", b)\n",
        "else:\n",
        "  print(\"Max = \", c)\n"
      ],
      "execution_count": 80,
      "outputs": [
        {
          "output_type": "stream",
          "text": [
            "Max =  2\n"
          ],
          "name": "stdout"
        }
      ]
    },
    {
      "cell_type": "code",
      "metadata": {
        "id": "NM0Ibtmm22m6",
        "colab_type": "code",
        "colab": {
          "base_uri": "https://localhost:8080/",
          "height": 34
        },
        "outputId": "0cb879ed-feb1-4559-8cea-fb22c019daf8"
      },
      "source": [
        "a = 5\n",
        "b = 4\n",
        "c = 2\n",
        "if a>=b and a>=c:\n",
        "  print(\"Max = \", a)\n",
        "elif (b>=a and b>=c):\n",
        "  print(\"Max = \", b)\n",
        "else:\n",
        "  print(\"Max = \", c)"
      ],
      "execution_count": 88,
      "outputs": [
        {
          "output_type": "stream",
          "text": [
            "Max =  5\n"
          ],
          "name": "stdout"
        }
      ]
    },
    {
      "cell_type": "markdown",
      "metadata": {
        "id": "aFgfS7tH0DMV",
        "colab_type": "text"
      },
      "source": [
        "## Loops"
      ]
    },
    {
      "cell_type": "code",
      "metadata": {
        "id": "Sl3YoqOZsnRQ",
        "colab_type": "code",
        "outputId": "a0070261-1939-4006-84ed-29691d750630",
        "colab": {
          "base_uri": "https://localhost:8080/",
          "height": 170
        }
      },
      "source": [
        "#Loops\n",
        "import numpy as np # import numpy library to be able to call numpy.arange() function\n",
        "\n",
        "print(\"\\nfor loop - loop over numbers: \")\n",
        "for count in range(0,10,1): #range(start,stop,step)\n",
        "  print(count,end=' ')\n",
        "\n",
        "print(\"\\nfor loop - loop over a list\")\n",
        "colors = [\"red\", \"blue\", \"green\", \"black\"]\n",
        "for color in colors:\n",
        "  print(color, \"\", end='')\n",
        "\n",
        "print(\"\\nfor loop - loop over floating point numbers\")\n",
        "for t in np.arange(0.0,1.0,0.10): # arange(start, stop, step) . for floating point iterates. similar function numpy.linspace\n",
        " print(t, end=' ')\n",
        "\n",
        "print(\"\\nwhile loop\")\n",
        "count = 10\n",
        "while count>0:\n",
        "  print(count, end=\" \")\n",
        "  count-=1"
      ],
      "execution_count": 0,
      "outputs": [
        {
          "output_type": "stream",
          "text": [
            "\n",
            "for loop - loop over numbers: \n",
            "0 1 2 3 4 5 6 7 8 9 \n",
            "for loop - loop over a list\n",
            "red blue green black \n",
            "for loop - loop over floating point numbers\n",
            "0.0 0.1 0.2 0.30000000000000004 0.4 0.5 0.6000000000000001 0.7000000000000001 0.8 0.9 \n",
            "while loop\n",
            "10 9 8 7 6 5 4 3 2 1 "
          ],
          "name": "stdout"
        }
      ]
    },
    {
      "cell_type": "markdown",
      "metadata": {
        "id": "2P3LLXWR2HLL",
        "colab_type": "text"
      },
      "source": [
        "## Functions"
      ]
    },
    {
      "cell_type": "code",
      "metadata": {
        "id": "dcDuCzh_2Mh6",
        "colab_type": "code",
        "outputId": "99fd203f-7f69-4e10-a7a3-d73a930f4796",
        "colab": {
          "base_uri": "https://localhost:8080/",
          "height": 139
        }
      },
      "source": [
        "def division(dividend,divisor):\n",
        "  quotient = dividend/divisor\n",
        "  return quotient\n",
        "\n",
        "print(division(4,3)) #implicit argument mapping\n",
        "print(division(dividend=4,divisor=3)) # explicit argument mapping \n",
        "print(division(divisor=4,dividend=3))\n",
        "\n",
        "def my_arange(start,stop,step=1):\n",
        "  my_list =[]\n",
        "  current_val = start\n",
        "  while (current_val < stop):\n",
        "    my_list.append(current_val)\n",
        "    current_val+=step\n",
        "  return my_list\n",
        "\n",
        "print(\"Function call with implicit argument mapping - my_arange(-10,10,1.5) = \", my_arange(-10,10,1.5))\n",
        "print(\"Function call using default values - my_arange(-10,10) = \",my_arange(-10,10))\n",
        "print(\"Function call with explicit argument mapping - my_arange(step=0.1,stop=1,start=0) = \", my_arange(step=0.1,stop=1,start=0))"
      ],
      "execution_count": 0,
      "outputs": [
        {
          "output_type": "stream",
          "text": [
            "1.3333333333333333\n",
            "1.3333333333333333\n",
            "0.75\n",
            "Function call with implicit argument mapping - my_arange(-10,10,1.5) =  [-10, -8.5, -7.0, -5.5, -4.0, -2.5, -1.0, 0.5, 2.0, 3.5, 5.0, 6.5, 8.0, 9.5]\n",
            "Function call using default values - my_arange(-10,10) =  [-10, -9, -8, -7, -6, -5, -4, -3, -2, -1, 0, 1, 2, 3, 4, 5, 6, 7, 8, 9]\n",
            "Function call with explicit argument mapping - my_arange(step=0.1,stop=1,start=0) =  [0, 0.1, 0.2, 0.30000000000000004, 0.4, 0.5, 0.6, 0.7, 0.7999999999999999, 0.8999999999999999, 0.9999999999999999]\n"
          ],
          "name": "stdout"
        }
      ]
    },
    {
      "cell_type": "markdown",
      "metadata": {
        "id": "pT0v5PqeyHUN",
        "colab_type": "text"
      },
      "source": [
        "## Vectors and Matrices\n",
        "\n",
        "Numpy allows us to define vectors and matrices and provides built-in functions to compute matrix operations.\n"
      ]
    },
    {
      "cell_type": "code",
      "metadata": {
        "id": "lgGcj2Tm8FsP",
        "colab_type": "code",
        "outputId": "b1523c03-fb47-4685-fb8b-bbe6e0c0281f",
        "colab": {
          "base_uri": "https://localhost:8080/",
          "height": 306
        }
      },
      "source": [
        "#Vectors and vector multiplication\n",
        "import numpy as np\n",
        "\n",
        "var_array = np.array([1,2,3,4])\n",
        "print(\"Shape of var_array = \", var_array.shape)\n",
        "\n",
        "var_row_vector = np.array([[1,2,3,4]])\n",
        "print(\"Shape of var_row_vector = \", var_row_vector.shape)\n",
        "\n",
        "\n",
        "print(\"var_array = \", var_array, \". var_vector = \", var_row_vector )\n",
        "\n",
        "print(\"Transpose of var_array = \", var_array.T)\n",
        "print(\"Transpose of var_row_vector = \\n\", var_row_vector.T)\n",
        "\n",
        "print(\"Array multiplication with scalar = \", var_array * 3)\n",
        "print(\"Vector multiplication with scalar = \", var_row_vector * 3)\n",
        "\n",
        "var2_array = np.array([5,4,3,2])\n",
        "var2_row_vector = np.array([[5,4,3,2]])\n",
        "\n",
        "print(\"var_array * var2_array = \", var_array * var2_array.T) # '*' operator does an element wise multiplications\n",
        "print(\"Example of Broadcasting (a terminology used in Python). var_row_vector * var2_row_vector.T = \\n\", var_row_vector * var2_row_vector.T) # example of broadcasting, where the arrays are expanded to match the dimensions \n",
        "\n"
      ],
      "execution_count": 91,
      "outputs": [
        {
          "output_type": "stream",
          "text": [
            "Shape of var_array =  (4,)\n",
            "Shape of var_row_vector =  (1, 4)\n",
            "var_array =  [1 2 3 4] . var_vector =  [[1 2 3 4]]\n",
            "Transpose of var_array =  [1 2 3 4]\n",
            "Transpose of var_row_vector = \n",
            " [[1]\n",
            " [2]\n",
            " [3]\n",
            " [4]]\n",
            "Array multiplication with scalar =  [ 3  6  9 12]\n",
            "Vector multiplication with scalar =  [[ 3  6  9 12]]\n",
            "var_array * var2_array =  [5 8 9 8]\n",
            "Example of Broadcasting (a terminology used in Python). var_row_vector * var2_row_vector.T = \n",
            " [[ 5 10 15 20]\n",
            " [ 4  8 12 16]\n",
            " [ 3  6  9 12]\n",
            " [ 2  4  6  8]]\n"
          ],
          "name": "stdout"
        }
      ]
    },
    {
      "cell_type": "code",
      "metadata": {
        "id": "6cmTjs6j4Z_4",
        "colab_type": "code",
        "colab": {
          "base_uri": "https://localhost:8080/",
          "height": 714
        },
        "outputId": "0f4614c3-8cf1-4b2d-cce8-41b9455fd957"
      },
      "source": [
        "# Matrix multiplication\n",
        "\n",
        "print(\"matrix mult of var_row_vector and var2_row_vector = \\n\", np.matmul(var_row_vector.T,var2_row_vector))\n",
        "\n",
        "M1 = np.random.randint(1,5,(8,2))\n",
        "M2 = np.random.randint(1,5,(8,2))\n",
        "\n",
        "print(\"matrix M1 = \\n\", M1, \"\\n matrix M2 = \\n\", M2)\n",
        "print(\"M1.*M2 = \\n\", np.multiply(M1,M2))\n",
        "print(\"M1*M2.T = \\n\", np.matmul(M1,M2.T))"
      ],
      "execution_count": 92,
      "outputs": [
        {
          "output_type": "stream",
          "text": [
            "matrix mult of var_row_vector and var2_row_vector = \n",
            " [[ 5  4  3  2]\n",
            " [10  8  6  4]\n",
            " [15 12  9  6]\n",
            " [20 16 12  8]]\n",
            "matrix M1 = \n",
            " [[3 2]\n",
            " [3 3]\n",
            " [3 3]\n",
            " [3 4]\n",
            " [4 3]\n",
            " [1 4]\n",
            " [1 2]\n",
            " [2 4]] \n",
            " matrix M2 = \n",
            " [[4 2]\n",
            " [2 1]\n",
            " [4 4]\n",
            " [1 2]\n",
            " [2 4]\n",
            " [2 4]\n",
            " [1 2]\n",
            " [2 2]]\n",
            "M1.*M2 = \n",
            " [[12  4]\n",
            " [ 6  3]\n",
            " [12 12]\n",
            " [ 3  8]\n",
            " [ 8 12]\n",
            " [ 2 16]\n",
            " [ 1  4]\n",
            " [ 4  8]]\n",
            "M1*M2.T = \n",
            " [[16  8 20  7 14 14  7 10]\n",
            " [18  9 24  9 18 18  9 12]\n",
            " [18  9 24  9 18 18  9 12]\n",
            " [20 10 28 11 22 22 11 14]\n",
            " [22 11 28 10 20 20 10 14]\n",
            " [12  6 20  9 18 18  9 10]\n",
            " [ 8  4 12  5 10 10  5  6]\n",
            " [16  8 24 10 20 20 10 12]]\n"
          ],
          "name": "stdout"
        }
      ]
    },
    {
      "cell_type": "markdown",
      "metadata": {
        "id": "oNQM5HwmJ8I9",
        "colab_type": "text"
      },
      "source": [
        "# Debugging in Python Notebooks\n",
        "Once you encounter an error, you can initiate a debug prompt by running \"%debug\" in a code cell (as shown in the cell below).\n",
        "\n",
        "For more details refer: https://colab.research.google.com/github/jakevdp/PythonDataScienceHandbook/blob/master/notebooks/01.06-Errors-and-Debugging.ipynb"
      ]
    },
    {
      "cell_type": "code",
      "metadata": {
        "id": "qrCxvk6gKQ53",
        "colab_type": "code",
        "colab": {}
      },
      "source": [
        "%debug"
      ],
      "execution_count": 0,
      "outputs": []
    },
    {
      "cell_type": "markdown",
      "metadata": {
        "id": "8dBQAEW-ZHbQ",
        "colab_type": "text"
      },
      "source": [
        "## Resources\n",
        "\n",
        "Official Python tutorial - https://docs.python.org/3/tutorial/"
      ]
    }
  ]
}