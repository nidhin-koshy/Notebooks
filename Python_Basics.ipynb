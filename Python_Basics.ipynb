{
  "nbformat": 4,
  "nbformat_minor": 0,
  "metadata": {
    "colab": {
      "name": "Python Basics",
      "version": "0.3.2",
      "provenance": [],
      "toc_visible": true,
      "include_colab_link": true
    },
    "kernelspec": {
      "name": "python3",
      "display_name": "Python 3"
    }
  },
  "cells": [
    {
      "cell_type": "markdown",
      "metadata": {
        "id": "view-in-github",
        "colab_type": "text"
      },
      "source": [
        "<a href=\"https://colab.research.google.com/github/nidhin-koshy/Notebooks/blob/master/Python_Basics.ipynb\" target=\"_parent\"><img src=\"https://colab.research.google.com/assets/colab-badge.svg\" alt=\"Open In Colab\"/></a>"
      ]
    },
    {
      "cell_type": "markdown",
      "metadata": {
        "id": "djg3nyBFzA8K",
        "colab_type": "text"
      },
      "source": [
        "# Python Basics for ML and Data Analytics\n",
        "\n",
        "Python is one of the popular platforms for ML and Data Analytics prototyping. \n",
        "\n",
        "## Advantages\n",
        "* Ease of coding - very high level syntax\n",
        "* Numerical libraries for mathematical computations - [SciPy](https://www.scipy.org/), [NumPy](http://www.numpy.org/),\n",
        "* Extensive ML libraries - [Scikit Learn](https://scikit-learn.org/stable/), [Tensorflow](https://www.tensorflow.org/), [PyTorch](https://pytorch.org/)"
      ]
    },
    {
      "cell_type": "markdown",
      "metadata": {
        "id": "y3N2IgR_x5Dx",
        "colab_type": "text"
      },
      "source": [
        "## Basic math operations"
      ]
    },
    {
      "cell_type": "code",
      "metadata": {
        "id": "CG_fH_R9y8Rd",
        "colab_type": "code",
        "outputId": "11bba57d-1648-4c14-c4eb-b6c6f8e2495b",
        "colab": {
          "base_uri": "https://localhost:8080/",
          "height": 71
        }
      },
      "source": [
        "# Basic Math Operations\n",
        "var1 = 4\n",
        "var2 = 3\n",
        "var_add = var1 + var2\n",
        "var_mult = var1 * var2\n",
        "var_div = var1/var2\n",
        "var_floor = var1//var2\n",
        "var_exp = var1**var2\n",
        "\n",
        "print(\"var1 = \", var1, \"var2 = \", var2,\"var_add = \", var_add,\"var_mult = \", var_mult,\"var_div = \", var_div, \"var_floor = \", var_floor,'var_exp = ',var_exp)\n",
        "print(\"type(var1) = \", type(var1), \"type(var2) = \", type(var2),\"type(var_div) = \", type(var_div),\"type(var_floor) = \", type(var_floor), \"type(var_exp) = \", type(var_exp))"
      ],
      "execution_count": 7,
      "outputs": [
        {
          "output_type": "stream",
          "text": [
            "var1 =  4 var2 =  3 var_add =  7 var_mult =  12 var_div =  1.3333333333333333 var_floor =  1 var_exp =  64\n",
            "type(var1) =  <class 'int'> type(var2) =  <class 'int'> type(var_div) =  <class 'float'> type(var_floor) =  <class 'int'> type(var_exp) =  <class 'int'>\n"
          ],
          "name": "stdout"
        }
      ]
    },
    {
      "cell_type": "markdown",
      "metadata": {
        "id": "hATpigRrH1_1",
        "colab_type": "text"
      },
      "source": [
        "##Conditional Operators and Loops"
      ]
    },
    {
      "cell_type": "code",
      "metadata": {
        "id": "VgzVo6C2H9pD",
        "colab_type": "code",
        "outputId": "d494e586-9f92-4785-da8e-0b2165f7b90e",
        "colab": {
          "base_uri": "https://localhost:8080/",
          "height": 34
        }
      },
      "source": [
        "a = 45\n",
        "b = 45\n",
        "c = 20\n",
        "if(a>b):  \n",
        "  if a>c:\n",
        "    print(\"a\") # Note that there is no curly brackets to indicate a code section. Code section is indicated using indentation.\n",
        "  else:\n",
        "    print(\"c\")\n",
        "elif (b>c):\n",
        "  print(\"b\")\n",
        "elif(a==b and a==c):\n",
        "    print(\"=\")\n",
        "else:\n",
        "  print(\"c\")\n"
      ],
      "execution_count": 8,
      "outputs": [
        {
          "output_type": "stream",
          "text": [
            "b\n"
          ],
          "name": "stdout"
        }
      ]
    },
    {
      "cell_type": "code",
      "metadata": {
        "id": "Sl3YoqOZsnRQ",
        "colab_type": "code",
        "colab": {
          "base_uri": "https://localhost:8080/",
          "height": 170
        },
        "outputId": "a0070261-1939-4006-84ed-29691d750630"
      },
      "source": [
        "#Loops\n",
        "import numpy as np # import numpy library to be able to call numpy.arange() function\n",
        "\n",
        "print(\"\\nfor loop - loop over numbers: \")\n",
        "for count in range(0,10,1): #range(start,stop,step)\n",
        "  print(count,end=' ')\n",
        "\n",
        "print(\"\\nfor loop - loop over a list\")\n",
        "colors = [\"red\", \"blue\", \"green\", \"black\"]\n",
        "for color in colors:\n",
        "  print(color, \"\", end='')\n",
        "\n",
        "print(\"\\nfor loop - loop over floating point numbers\")\n",
        "for t in np.arange(0.0,1.0,0.10): # arange(start, stop, step) . for floating point iterates. similar function numpy.linspace\n",
        " print(t, end=' ')\n",
        "\n",
        "print(\"\\nwhile loop\")\n",
        "count = 10\n",
        "while count>0:\n",
        "  print(count, end=\" \")\n",
        "  count-=1"
      ],
      "execution_count": 9,
      "outputs": [
        {
          "output_type": "stream",
          "text": [
            "\n",
            "for loop - loop over numbers: \n",
            "0 1 2 3 4 5 6 7 8 9 \n",
            "for loop - loop over a list\n",
            "red blue green black \n",
            "for loop - loop over floating point numbers\n",
            "0.0 0.1 0.2 0.30000000000000004 0.4 0.5 0.6000000000000001 0.7000000000000001 0.8 0.9 \n",
            "while loop\n",
            "10 9 8 7 6 5 4 3 2 1 "
          ],
          "name": "stdout"
        }
      ]
    },
    {
      "cell_type": "markdown",
      "metadata": {
        "id": "2P3LLXWR2HLL",
        "colab_type": "text"
      },
      "source": [
        "## Functions"
      ]
    },
    {
      "cell_type": "code",
      "metadata": {
        "id": "dcDuCzh_2Mh6",
        "colab_type": "code",
        "colab": {
          "base_uri": "https://localhost:8080/",
          "height": 139
        },
        "outputId": "99fd203f-7f69-4e10-a7a3-d73a930f4796"
      },
      "source": [
        "def division(dividend,divisor):\n",
        "  quotient = dividend/divisor\n",
        "  return quotient\n",
        "\n",
        "print(division(4,3)) #implicit argument mapping\n",
        "print(division(dividend=4,divisor=3)) # explicit argument mapping \n",
        "print(division(divisor=4,dividend=3))\n",
        "\n",
        "def my_arange(start,stop,step=1):\n",
        "  my_list =[]\n",
        "  current_val = start\n",
        "  while (current_val < stop):\n",
        "    my_list.append(current_val)\n",
        "    current_val+=step\n",
        "  return my_list\n",
        "\n",
        "print(\"Function call with implicit argument mapping - my_arange(-10,10,1.5) = \", my_arange(-10,10,1.5))\n",
        "print(\"Function call using default values - my_arange(-10,10) = \",my_arange(-10,10))\n",
        "print(\"Function call with explicit argument mapping - my_arange(step=0.1,stop=1,start=0) = \", my_arange(step=0.1,stop=1,start=0))"
      ],
      "execution_count": 10,
      "outputs": [
        {
          "output_type": "stream",
          "text": [
            "1.3333333333333333\n",
            "1.3333333333333333\n",
            "0.75\n",
            "Function call with implicit argument mapping - my_arange(-10,10,1.5) =  [-10, -8.5, -7.0, -5.5, -4.0, -2.5, -1.0, 0.5, 2.0, 3.5, 5.0, 6.5, 8.0, 9.5]\n",
            "Function call using default values - my_arange(-10,10) =  [-10, -9, -8, -7, -6, -5, -4, -3, -2, -1, 0, 1, 2, 3, 4, 5, 6, 7, 8, 9]\n",
            "Function call with explicit argument mapping - my_arange(step=0.1,stop=1,start=0) =  [0, 0.1, 0.2, 0.30000000000000004, 0.4, 0.5, 0.6, 0.7, 0.7999999999999999, 0.8999999999999999, 0.9999999999999999]\n"
          ],
          "name": "stdout"
        }
      ]
    },
    {
      "cell_type": "markdown",
      "metadata": {
        "id": "pT0v5PqeyHUN",
        "colab_type": "text"
      },
      "source": [
        "## Vectors and Matrix Operations"
      ]
    },
    {
      "cell_type": "code",
      "metadata": {
        "id": "lgGcj2Tm8FsP",
        "colab_type": "code",
        "outputId": "3f4f2cee-8e5f-4d49-9f54-819341e7a509",
        "colab": {
          "base_uri": "https://localhost:8080/",
          "height": 1000
        }
      },
      "source": [
        "#Vectors and Matrices\n",
        "import numpy as np\n",
        "\n",
        "var_array = np.array([1,2,3,4])\n",
        "print(\"Shape of var_array = \", var_array.shape)\n",
        "\n",
        "var_row_vector = np.array([[1,2,3,4]])\n",
        "print(\"Shape of var_row_vector = \", var_row_vector.shape)\n",
        "\n",
        "\n",
        "print(\"var_array = \", var_array, \". var_vector = \", var_row_vector )\n",
        "\n",
        "print(\"Transpose of var_array = \", var_array.T)\n",
        "print(\"Transpose of var_row_vector = \\n\", var_row_vector.T)\n",
        "\n",
        "print(\"Array multiplication with scalar = \", var_array * 3)\n",
        "print(\"Vector multiplication with scalar = \", var_row_vector * 3)\n",
        "\n",
        "var2_array = np.array([5,4,3,2])\n",
        "var2_row_vector = np.array([[5,4,3,2]])\n",
        "\n",
        "print(\"var_array * var2_array = \", var_array * var2_array.T) # '*' operator does a element wise multiplications\n",
        "print(\"Example of Broadcasting (a terminology used in Python). var_row_vector * var2_row_vector = \\n\", var_row_vector.T * var2_row_vector) # example of broadcasting, where the arrays are expanded to match the dimensions \n",
        "\n",
        "print(\"matrix mult of var_row_vector and var2_row_vector = \\n\", np.matmul(var_row_vector.T,var2_row_vector))\n",
        "\n",
        "M1 = np.random.randint(1,5,(8,2))\n",
        "M2 = np.random.randint(1,5,(8,2))\n",
        "\n",
        "print(\"matrix M1 = \\n\", M1, \"\\n matrix M2 = \\n\", M2)\n",
        "print(\"M1.*M2 = \\n\", np.multiply(M1,M2))\n",
        "print(\"M1*M2.T = \\n\", np.matmul(M1,M2.T))"
      ],
      "execution_count": 11,
      "outputs": [
        {
          "output_type": "stream",
          "text": [
            "Shape of var_array =  (4,)\n",
            "Shape of var_row_vector =  (1, 4)\n",
            "var_array =  [1 2 3 4] . var_vector =  [[1 2 3 4]]\n",
            "Transpose of var_array =  [1 2 3 4]\n",
            "Transpose of var_row_vector = \n",
            " [[1]\n",
            " [2]\n",
            " [3]\n",
            " [4]]\n",
            "Array multiplication with scalar =  [ 3  6  9 12]\n",
            "Vector multiplication with scalar =  [[ 3  6  9 12]]\n",
            "var_array * var2_array =  [5 8 9 8]\n",
            "Example of Broadcasting (a terminology used in Python). var_row_vector * var2_row_vector = \n",
            " [[ 5  4  3  2]\n",
            " [10  8  6  4]\n",
            " [15 12  9  6]\n",
            " [20 16 12  8]]\n",
            "matrix mult of var_row_vector and var2_row_vector = \n",
            " [[ 5  4  3  2]\n",
            " [10  8  6  4]\n",
            " [15 12  9  6]\n",
            " [20 16 12  8]]\n",
            "matrix M1 = \n",
            " [[2 1]\n",
            " [1 3]\n",
            " [2 4]\n",
            " [3 4]\n",
            " [2 4]\n",
            " [4 3]\n",
            " [1 1]\n",
            " [4 3]] \n",
            " matrix M2 = \n",
            " [[3 2]\n",
            " [4 1]\n",
            " [1 4]\n",
            " [1 2]\n",
            " [2 2]\n",
            " [1 3]\n",
            " [3 2]\n",
            " [3 2]]\n",
            "M1.*M2 = \n",
            " [[ 6  2]\n",
            " [ 4  3]\n",
            " [ 2 16]\n",
            " [ 3  8]\n",
            " [ 4  8]\n",
            " [ 4  9]\n",
            " [ 3  2]\n",
            " [12  6]]\n",
            "M1*M2.T = \n",
            " [[ 8  9  6  4  6  5  8  8]\n",
            " [ 9  7 13  7  8 10  9  9]\n",
            " [14 12 18 10 12 14 14 14]\n",
            " [17 16 19 11 14 15 17 17]\n",
            " [14 12 18 10 12 14 14 14]\n",
            " [18 19 16 10 14 13 18 18]\n",
            " [ 5  5  5  3  4  4  5  5]\n",
            " [18 19 16 10 14 13 18 18]]\n"
          ],
          "name": "stdout"
        }
      ]
    }
  ]
}