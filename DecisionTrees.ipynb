{
  "nbformat": 4,
  "nbformat_minor": 0,
  "metadata": {
    "colab": {
      "name": "DecisionTrees.ipynb",
      "version": "0.3.2",
      "provenance": [],
      "collapsed_sections": [],
      "toc_visible": true,
      "include_colab_link": true
    },
    "kernelspec": {
      "name": "python3",
      "display_name": "Python 3"
    }
  },
  "cells": [
    {
      "cell_type": "markdown",
      "metadata": {
        "id": "view-in-github",
        "colab_type": "text"
      },
      "source": [
        "<a href=\"https://colab.research.google.com/github/nidhin-koshy/Notebooks/blob/master/DecisionTrees.ipynb\" target=\"_parent\"><img src=\"https://colab.research.google.com/assets/colab-badge.svg\" alt=\"Open In Colab\"/></a>"
      ]
    },
    {
      "cell_type": "markdown",
      "metadata": {
        "id": "V8b_i9bFdlM7",
        "colab_type": "text"
      },
      "source": [
        "# Decision Tree Calssifier\n",
        "\n",
        "A decision tree classifier partitions the feature space in a hierarchical manner and assigns class labels to each partition. The partition rules are along the different feature axes and hence we can provide a descriptive and intuitive classification rule for each partition. The key part of the algorithm is the way in which the partitioning is done.\n",
        "\n",
        "    Decision Tree Algorithm: For a a given set of samples and labels, a split finds the best feature and a partioning that reduces the class entropy (or gini index). This provides us with two sets of samples and labels. The above procedure is repeated on each generated set of samples and labels till the max_depth of the tree is reached."
      ]
    },
    {
      "cell_type": "markdown",
      "metadata": {
        "id": "OgNi7Xxnx3-Z",
        "colab_type": "text"
      },
      "source": [
        "### Import required modules/libraries"
      ]
    },
    {
      "cell_type": "code",
      "metadata": {
        "id": "d-DlZ25qwgZY",
        "colab_type": "code",
        "colab": {}
      },
      "source": [
        "import numpy as np\n",
        "import pandas as pd\n",
        "import matplotlib.pyplot as plt\n",
        "import seaborn as sns"
      ],
      "execution_count": 0,
      "outputs": []
    },
    {
      "cell_type": "markdown",
      "metadata": {
        "id": "GpS0wNeLsrM6",
        "colab_type": "text"
      },
      "source": [
        "## Define required functions"
      ]
    },
    {
      "cell_type": "code",
      "metadata": {
        "id": "iseWRWMIkeSW",
        "colab_type": "code",
        "colab": {}
      },
      "source": [
        "#Define a class for a node in the tree\n",
        "class Tree(object):\n",
        "    def __init__(self):\n",
        "        self.split=False # Is this node further split?\n",
        "        self.parent=None # Which is the parent node of the node\n",
        "        self.depth=0 #At what depth is this node\n",
        "        self.is_left=False #Is this a left node of the parent node?\n",
        "        self.left = None #The left child node of this node\n",
        "        self.right = None #The right child node of this node\n",
        "        #self.data = None \n",
        "        self.feature = None #The feature used for the split in this node\n",
        "        self.threshold = None #The threshold used for the split on the above feature\n",
        "        self.entropy_before_split=None #entropy before the split\n",
        "        self.entropy_after_split=None #entropy after the split\n",
        "        self.num_labels=[] #number of instances of different labels\n",
        "        self.total_labels=0 #total number of labels"
      ],
      "execution_count": 0,
      "outputs": []
    },
    {
      "cell_type": "code",
      "metadata": {
        "id": "jxErr70WtVoU",
        "colab_type": "code",
        "colab": {}
      },
      "source": [
        "#Define a function to compute the entropy of the frequency of the labels\n",
        "def entropy(labels):\n",
        "  total_labels = len(labels)\n",
        "  unique_labels = list(set(labels)) #find the different unique labels present in labels\n",
        "  num_labels=np.array([])\n",
        "  for label in unique_labels:\n",
        "    num_labels = np.append(num_labels,len(labels[labels==label])) #find the number of instances of each label\n",
        "  num_labels_pmf=num_labels/total_labels #normalize the number of instances of each label\n",
        "  log_num_labels_pmf = np.log2(num_labels_pmf) #compute the log2() of the normalized num labels\n",
        "  entropy_var= sum(-num_labels_pmf*log_num_labels_pmf) #compute the entropy as: sum_i -pi*log(pi)\n",
        "  return [entropy_var,num_labels,total_labels]"
      ],
      "execution_count": 0,
      "outputs": []
    },
    {
      "cell_type": "code",
      "metadata": {
        "id": "HUIMmKozx25q",
        "colab_type": "code",
        "colab": {}
      },
      "source": [
        "#Define a function to compute the entropy when the labels are split into two partitions.\n",
        "#The resulting entropy is the weighted average of the two partitions, each weighted by its fractions of samples.\n",
        "def entropy_split(labels_split):\n",
        "  total_labels = 0\n",
        "  num_labels=np.array([])\n",
        "  entropy_labels=np.array([])\n",
        "  for item in labels_split: #iterate over the partitions\n",
        "    total_labels+=len(item) #compute the total number of samples\n",
        "    num_labels=np.append(num_labels,len(item)) #compute the number of labels in each partition\n",
        "    entropy_labels=np.append(entropy_labels,entropy(item)[0]) #compute the entropy for each partition\n",
        "  num_labels = num_labels/total_labels #make it a pmf\n",
        "  entropy_split_var = sum(num_labels*entropy_labels) #compute the weighted entropy\n",
        "  return entropy_split_var"
      ],
      "execution_count": 0,
      "outputs": []
    },
    {
      "cell_type": "code",
      "metadata": {
        "id": "W9D1uh0Osvta",
        "colab_type": "code",
        "colab": {}
      },
      "source": [
        "#Define a function that optimally splits a set of samples depending on the given feature such that the resulting entropy is minimized\n",
        "def split_samples_feature(samples,labels,feature):\n",
        "  num_points = 100 #The search for the optimal threshold is restricted to 100 equally spaced points between the min and max\n",
        "  min_feature=min(samples[:,feature]) #the minimum value observed for the feature\n",
        "  max_feature=max(samples[:,feature]) #the maximum value observed for the feature\n",
        "  thresholds = np.linspace(min_feature,max_feature,num_points) #obtain the candidate thresholds (equally spaced values between min and max)\n",
        "  curr_entropy = entropy(labels)[0] #initialize entropy to that of the combined labels (entropy of any split will be less than this value)\n",
        "  curr_threshold = thresholds[0] #initialize the threshold to the min value\n",
        "  for threshold in thresholds: #iterate over the thresholds\n",
        "    labels_1=labels[samples[:,feature]<=threshold] # obtain the first partition based on the candidate threshold\n",
        "    labels_2=labels[samples[:,feature]>threshold]  # obtain the second partition based on the candidate threshold\n",
        "    labels_split = [labels_1,labels_2] # collect the two partitions\n",
        "    new_entropy = entropy_split(labels_split) #compute the entropy of the new split\n",
        "    if(new_entropy < curr_entropy):#compare the entropy for the new split with best entropy so far. If the new entropy is smaller than the best so far, update the values\n",
        "      curr_entropy = new_entropy # update the best entropy\n",
        "      curr_threshold = threshold # update the best threshold\n",
        "    labels_1=labels[samples[:,feature]<=curr_threshold] # labels partition 1 of the best split\n",
        "    labels_2=labels[samples[:,feature]>curr_threshold] # labels partition 2 of the best split\n",
        "    samples_1=samples[samples[:,feature]<=curr_threshold,:] # sample partition 1 of the best split\n",
        "    samples_2=samples[samples[:,feature]>curr_threshold,:] # sample partition 2 of the best split\n",
        "  return [curr_threshold,curr_entropy,labels_1,labels_2,samples_1,samples_2] "
      ],
      "execution_count": 0,
      "outputs": []
    },
    {
      "cell_type": "code",
      "metadata": {
        "id": "IE9x4luE13A8",
        "colab_type": "code",
        "colab": {}
      },
      "source": [
        "# Define a function the splits a given set of samples based on best feature that minimizes the entropy\n",
        "def split_samples(samples,labels,parent_node,max_depth,curr_depth):\n",
        "  curr_threshold=float('inf') #initialize best threshold to an arbitrary value\n",
        "  [curr_entropy,num_labels,total_labels] = entropy(labels) #obtain the entropy, number of labels in each class and the total number of labels/samples\n",
        "  parent_node.entropy_before_split=curr_entropy # store the entropy of the current set of samples before splitting in the node class. This is just for information afterwards when analysing the tree.\n",
        "  parent_node.num_labels=num_labels # store the number of labels in the node class\n",
        "  parent_node.total_labels=total_labels # store the total number of labels in the node class\n",
        "  curr_feature = 0\n",
        "  found_split = False #initialize the boolean to false. This will be set to True when a split that minimizes entropy is found\n",
        "  for feature in range(samples.shape[1]): #iterate over features\n",
        "    [new_threshold,new_entropy,labels_1,labels_2,samples_1,samples_2] = split_samples_feature(samples,labels,feature) # find the best split for this feature\n",
        "    if(new_entropy < curr_entropy): #if the new feature is better\n",
        "      found_split=True \n",
        "      curr_feature = feature\n",
        "      curr_entropy=new_entropy\n",
        "      curr_threshold = new_threshold\n",
        "      curr_labels_1=labels_1\n",
        "      curr_labels_2=labels_2\n",
        "      curr_samples_1=samples_1\n",
        "      curr_samples_2=samples_2\n",
        "  parent_node.split=found_split\n",
        "  parent_node.depth=curr_depth\n",
        "  if found_split : #once the best feature is obtained, populate the node class with the relevant information\n",
        "    parent_node.feature=curr_feature # store the best feature to split at the current node\n",
        "    parent_node.entropy_after_split=curr_entropy #store the entropy after the split. This should be less than the entropy before split\n",
        "    parent_node.threshold=curr_threshold # store the threshold at which to split\n",
        "    if(curr_depth<max_depth): # if the depth of the current node is less than the max_depth, then continue the splitting process\n",
        "      node_left=Tree() #initialize a new node to be attached to the left of the current node.\n",
        "      node_right=Tree() #similarly, initialize a new node to be attached to the right of the current node\n",
        "      parent_node.left=node_left #link the parent node to the child nodes\n",
        "      parent_node.right=node_right\n",
        "      node_left.parent=parent_node #link the child nodes to the parent node\n",
        "      node_left.is_left=True # store whether the child node is a left node or a right node\n",
        "      node_right.parent=parent_node\n",
        "      node_right.is_left=False\n",
        "      split_samples(curr_samples_1,curr_labels_1,node_left,max_depth,curr_depth+1) #call a recursion on the same function with the new set of samples corresponding to the left partition\n",
        "      split_samples(curr_samples_2,curr_labels_2,node_right,max_depth,curr_depth+1) #similarly for the right partition"
      ],
      "execution_count": 0,
      "outputs": []
    },
    {
      "cell_type": "code",
      "metadata": {
        "id": "02Cfcm_9dD2P",
        "colab_type": "code",
        "colab": {}
      },
      "source": [
        "# Define a function to print the relevant information of the final decision tree\n",
        "def print_tree(root):\n",
        "  print(\"Node level = \", root.depth,\". Is left = \",root.is_left,\". Node Entropy before split = \",root.entropy_before_split,\". Node Entropy after split = \",root.entropy_after_split)\n",
        "  print(\"\\t Node feature = \", root.feature,\". Node threshold = \", root.threshold)\n",
        "  print(\"\\t Num labels = \", root.num_labels,\". Total number of labels = \", root.total_labels)\n",
        "  if(root.left): print_tree(root.left) # a recursion on the child nodes\n",
        "  if(root.right): print_tree(root.right)\n",
        "    \n",
        "    \n",
        "    \n",
        "    "
      ],
      "execution_count": 0,
      "outputs": []
    },
    {
      "cell_type": "code",
      "metadata": {
        "id": "Qkkvdux_MOkt",
        "colab_type": "code",
        "colab": {}
      },
      "source": [
        "# Main code body\n",
        "from sklearn.datasets import load_wine  # Load in-built dataset on classification of wines\n",
        "data = load_wine()\n",
        "samples=data['data'] # obtain the samples\n",
        "labels=data['target'] # obtain the labels\n",
        "curr_depth=0 # the depth of the root node is initialized to 0\n",
        "max_depth=2  # specify the maximum depth to which the tree can grow\n",
        "root = Tree() #initialize the root node\n",
        "split_samples(samples,labels,root,max_depth,curr_depth) # Call the main function that computes the decision tree\n"
      ],
      "execution_count": 0,
      "outputs": []
    },
    {
      "cell_type": "code",
      "metadata": {
        "id": "2bU2Yz87qyIQ",
        "colab_type": "code",
        "outputId": "e18dbade-1f66-4f05-d521-ce960065e5f7",
        "colab": {
          "base_uri": "https://localhost:8080/",
          "height": 394
        }
      },
      "source": [
        "print_tree(root)"
      ],
      "execution_count": 164,
      "outputs": [
        {
          "output_type": "stream",
          "text": [
            "Node level =  0 . Is left =  False . Node Entropy before split =  1.5668222768551812 . Node Entropy after split =  0.9260146995661807\n",
            "\t Node feature =  6 . Node threshold =  1.584848484848485\n",
            "\t Num labels =  [59. 71. 48.] . Total number of labels =  178\n",
            "Node level =  1 . Is left =  True . Node Entropy before split =  0.7918583525674836 . Node Entropy after split =  0.11178702106396361\n",
            "\t Node feature =  9 . Node threshold =  3.847474747474748\n",
            "\t Num labels =  [15. 48.] . Total number of labels =  63\n",
            "Node level =  2 . Is left =  True . Node Entropy before split =  0.0 . Node Entropy after split =  None\n",
            "\t Node feature =  None . Node threshold =  None\n",
            "\t Num labels =  [14.] . Total number of labels =  14\n",
            "Node level =  2 . Is left =  False . Node Entropy before split =  0.14372616993938178 . Node Entropy after split =  0.0\n",
            "\t Node feature =  2 . Node threshold =  2.02\n",
            "\t Num labels =  [ 1. 48.] . Total number of labels =  49\n",
            "Node level =  1 . Is left =  False . Node Entropy before split =  0.9995090461828582 . Node Entropy after split =  0.24829732413130304\n",
            "\t Node feature =  12 . Node threshold =  717.0101010101009\n",
            "\t Num labels =  [59. 56.] . Total number of labels =  115\n",
            "Node level =  2 . Is left =  True . Node Entropy before split =  0.13503620280212764 . Node Entropy after split =  0.06122853769502889\n",
            "\t Node feature =  0 . Node threshold =  13.116767676767676\n",
            "\t Num labels =  [ 1. 52.] . Total number of labels =  53\n",
            "Node level =  2 . Is left =  False . Node Entropy before split =  0.345117314944953 . Node Entropy after split =  0.0\n",
            "\t Node feature =  9 . Node threshold =  3.4272727272727277\n",
            "\t Num labels =  [58.  4.] . Total number of labels =  62\n"
          ],
          "name": "stdout"
        }
      ]
    },
    {
      "cell_type": "markdown",
      "metadata": {
        "id": "VDT05SClZhYQ",
        "colab_type": "text"
      },
      "source": [
        "## Use scikit-learn's in-built implementation of decision trees"
      ]
    },
    {
      "cell_type": "code",
      "metadata": {
        "id": "jmtcm9iuX05U",
        "colab_type": "code",
        "outputId": "9c21bce8-94f7-4e47-e4b5-07403a73ce46",
        "colab": {
          "base_uri": "https://localhost:8080/",
          "height": 408
        }
      },
      "source": [
        "#We will verify our implementation of the decision tree using the in-built implementation of decision tree in scikit learn\n",
        "from sklearn.datasets import load_wine\n",
        "from sklearn import tree\n",
        "data = load_wine()\n",
        "clf = tree.DecisionTreeClassifier(criterion='entropy',max_depth=2)\n",
        "clf = clf.fit(data.data, data.target)\n",
        "tree.plot_tree(clf.fit(data.data, data.target)) "
      ],
      "execution_count": 163,
      "outputs": [
        {
          "output_type": "execute_result",
          "data": {
            "text/plain": [
              "[Text(167.4, 181.2, 'X[6] <= 1.575\\nentropy = 1.567\\nsamples = 178\\nvalue = [59, 71, 48]'),\n",
              " Text(83.7, 108.72, 'X[9] <= 3.825\\nentropy = 0.771\\nsamples = 62\\nvalue = [0, 14, 48]'),\n",
              " Text(41.85, 36.23999999999998, 'entropy = 0.0\\nsamples = 13\\nvalue = [0, 13, 0]'),\n",
              " Text(125.55000000000001, 36.23999999999998, 'entropy = 0.144\\nsamples = 49\\nvalue = [0, 1, 48]'),\n",
              " Text(251.10000000000002, 108.72, 'X[12] <= 724.5\\nentropy = 1.0\\nsamples = 116\\nvalue = [59, 57, 0]'),\n",
              " Text(209.25, 36.23999999999998, 'entropy = 0.133\\nsamples = 54\\nvalue = [1, 53, 0]'),\n",
              " Text(292.95, 36.23999999999998, 'entropy = 0.345\\nsamples = 62\\nvalue = [58, 4, 0]')]"
            ]
          },
          "metadata": {
            "tags": []
          },
          "execution_count": 163
        },
        {
          "output_type": "display_data",
          "data": {
            "image/png": "[encoded data removed]",
            "text/plain": [
              "<Figure size 432x288 with 1 Axes>"
            ]
          },
          "metadata": {
            "tags": []
          }
        }
      ]
    },
    {
      "cell_type": "markdown",
      "metadata": {
        "id": "-3dsRWzrVlfE",
        "colab_type": "text"
      },
      "source": [
        "# Exercises\n",
        "* Make changes so that the decision tree is based on minimizing the gini index (replace entropy with gini index).\n",
        "* Verify your implementation using the scikit-learn implementation of the decision tree, with the criterion set to gini."
      ]
    }
  ]
}